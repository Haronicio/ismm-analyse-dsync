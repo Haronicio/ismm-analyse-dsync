{
 "cells": [
  {
   "cell_type": "markdown",
   "metadata": {},
   "source": [
    "# Analyse dsync Notebook\n",
    "\n",
    "## Abstract\n",
    "\n",
    "TODO\n",
    "\n",
    "## Experiences\n",
    "\n",
    "Les experiences on été mené sur 3 sessions *data-yyyy-mm-dd* à chaque session correspond une série d'expérience *n__d_yyyy_mm_dd_t_hh_mm_ss* \n",
    "Il y a 6 musiciens et chaque musicien participant à l'expérience on 2 dispositifs d'acquisition (**riots**), un toujours sur la tête et l'autre au bras ou à la jambe suivant la session. Il y a donc un total de 12 dispositifs d'acquisition dans une expérience.\n",
    "\n",
    "Un dispositif d'acquisition dispose de :\n",
    "\n",
    "* 3 capteurs  : accelerometre (**acc**) gyroscope (**gyro**) et magnetometre (**mag**) sur 3 axes chacun\n",
    "* 3 metrics : \n",
    "  * **orientation** sur 3 axes, angle du dispositif par rapport à l'axe de gravitation\n",
    "  * acceleration filtré (**accfilt**) sur 3 axes, filtre passe bas (~10 Hz) pour les données de l'accelerometre pour éliminer les micro variations indésirable\n",
    "  * **intensity**, normalisation de la quantité de mouvement, représentation \"adouci\" du mouvement enregistré\n",
    "\n",
    "Il y a donc au total 16 metrics par dispositif par musicien.\n",
    "\n",
    "un fichier son  de la performance, suivant la session il inclu le son d'un metronome\n",
    "\n",
    "une vidéo de la performance\n",
    "\n",
    "un fichier *riots-musicians.txt* qui assoscie chaque riot à un musicien ainsi que son type \n",
    "\n",
    "Une session comprend aussi des enrigistrement de calibration, des improvisations et des tests\n",
    "\n",
    "## Datas\n",
    "\n",
    "Stocké au format *.txt* pour chaque riots, échantilloné à 10ms, les données comprennent :\n",
    "\n",
    "| Time Stamp | acc_x | acc_y | acc_z | gyro_x | gyro_y | gyro_z | mag_x | mag_y | mag_z | orientation_x | orientation_y | orientation_z | accfilt_x | accfilt_y | accfilt_z | intensity |\n",
    "| ---------- | ----- | ----- | ----- | ------ | ------ | ------ | ----- | ----- | ----- | ------------- | ------------- | ------------- | --------- | --------- | --------- | --------- |\n",
    "\n",
    "Les données doivent être tronqué dans le temps car elles comprennes des données biaisé avant et après la performance.\n",
    "\n",
    "## Code "
   ]
  },
  {
   "cell_type": "markdown",
   "metadata": {},
   "source": [
    "### Imports\n",
    "\n",
    "* [pandas](https://pandas.pydata.org/) Pour manipulé des ensemble de donnée avec des DataFrame\n",
    "* [matplotlib]() pour la visualisation de donnée\n",
    "* [seaborn]() pour réaliser des graphs plus fancy\n",
    "* TODO"
   ]
  },
  {
   "cell_type": "code",
   "execution_count": 5,
   "metadata": {},
   "outputs": [],
   "source": [
    "import scipy as sp\n",
    "import pandas as pd\n",
    "import matplotlib.pyplot as plt\n",
    "import seaborn as sns\n",
    "\n",
    "sns.set_theme(style=\"darkgrid\")\n",
    "\n",
    "import os\n",
    "import re\n",
    "import glob\n",
    "\n",
    "import librosa\n",
    "import librosa.display\n",
    "import matplotlib.pyplot as plt\n",
    "from IPython.display import Audio, display, clear_output\n",
    "import ipywidgets as widgets \n",
    "import pickle"
   ]
  },
  {
   "cell_type": "markdown",
   "metadata": {},
   "source": [
    "### Data structures\n",
    "\n",
    "Les structures de données doivent avoir une organisation scalable, optimisé pour éviter les redondances et pour accélérer la recherche, la structure est \"trivial\" pour les autres language de programmation plus bas niveau\n",
    "Les structures de données peuvent s'organiser comme suit :\n",
    "\n",
    "* class Session:\n",
    "    * date: string (date)\n",
    "    * experiences: dict of Experience\n",
    "\n",
    "* class Experience:\n",
    "    * time: string (time)\n",
    "    * number: int\n",
    "    * musician_riots: dictionary { musician: (riot_head, riot_limb) }\n",
    "    * riots: dict of Riot (avant list)\n",
    "\n",
    "* class Riot:\n",
    "    * dataset: dict Dataset (avant list)\n",
    "    * duration : float\n",
    "    * trunc: (start: float, end: float)\n",
    "    * riot_type: \"arm\" | \"leg\" | \"head\"\n",
    "\n",
    "* class Dataset:\n",
    "    * t: float\n",
    "    * acc_x: float\n",
    "    * acc_y: float\n",
    "    * acc_z: float\n",
    "    * gyro_x: float\n",
    "    * gyro_y: float\n",
    "    * gyro_z: float\n",
    "    * mag_x: float\n",
    "    * mag_y: float\n",
    "    * mag_z: float\n",
    "    * orientation_x: float\n",
    "    * orientation_y: float\n",
    "    * orientation_z: float\n",
    "    * accfilt_x: float\n",
    "    * accfilt_y: float\n",
    "    * accfilt_z: float\n",
    "    * intensity: float"
   ]
  },
  {
   "cell_type": "code",
   "execution_count": 6,
   "metadata": {},
   "outputs": [],
   "source": [
    "class Session:\n",
    "    def __init__(self, date, experiences=None):\n",
    "        self.date = date\n",
    "        if(experiences is None):\n",
    "            experiences = {}\n",
    "        self.experiences = experiences\n",
    "\n",
    "class Experience:\n",
    "    def __init__(self, time, number,musician_riots={}, riots=None):\n",
    "        self.time = time\n",
    "        self.number = number\n",
    "        # WARNING : Mutable default argument, all instance of experience point on the same instance of musician_riots dictionnary\n",
    "        self.musician_riots = musician_riots\n",
    "        if(riots is None):\n",
    "            riots = {}\n",
    "        self.riots = riots\n",
    "        self.trunc = (0,0)\n",
    "\n",
    "class Riot:\n",
    "    def __init__(self, dataset, duration, riot_type):\n",
    "        self.dataset = dataset\n",
    "        self.duration = duration\n",
    "        # trunc into experiences instead in riots\n",
    "        # self.trunc = trunc\n",
    "        self.riot_type = riot_type\n",
    "\n",
    "class Dataset:\n",
    "    def __init__(self, t, acc_x, acc_y, acc_z, gyro_x, gyro_y, gyro_z, mag_x, mag_y, mag_z, orientation_x, orientation_y, orientation_z, accfilt_x, accfilt_y, accfilt_z, intensity):\n",
    "        self.t = t\n",
    "        self.acc_x = acc_x\n",
    "        self.acc_y = acc_y\n",
    "        self.acc_z = acc_z\n",
    "        self.gyro_x = gyro_x\n",
    "        self.gyro_y = gyro_y\n",
    "        self.gyro_z = gyro_z\n",
    "        self.mag_x = mag_x\n",
    "        self.mag_y = mag_y\n",
    "        self.mag_z = mag_z\n",
    "        self.orientation_x = orientation_x\n",
    "        self.orientation_y = orientation_y\n",
    "        self.orientation_z = orientation_z\n",
    "        self.accfilt_x = accfilt_x\n",
    "        self.accfilt_y = accfilt_y\n",
    "        self.accfilt_z = accfilt_z\n",
    "        self.intensity = intensity\n",
    "        \n",
    "    def __str__(self):\n",
    "        return f\"t: {self.t}, acc_x: {self.acc_x}, acc_y: {self.acc_y}, acc_z: {self.acc_z}, gyro_x: {self.gyro_x}, gyro_y: {self.gyro_y}, gyro_z: {self.gyro_z}, mag_x: {self.mag_x}, mag_y: {self.mag_y}, mag_z: {self.mag_z}, orientation_x: {self.orientation_x}, orientation_y: {self.orientation_y}, orientation_z: {self.orientation_z}, accfilt_x: {self.accfilt_x}, accfilt_y: {self.accfilt_y}, accfilt_z: {self.accfilt_z}, intensity: {self.intensity}\"\n"
   ]
  },
  {
   "cell_type": "markdown",
   "metadata": {},
   "source": [
    "### Datas loading\n",
    "\n",
    "peut être le faire en C pour accélérer le programme"
   ]
  },
  {
   "cell_type": "code",
   "execution_count": 7,
   "metadata": {},
   "outputs": [],
   "source": [
    "# import os\n",
    "# import re\n",
    "# import glob\n",
    "\n",
    "def load_data(session_folder):\n",
    "    # Extract date from folder name\n",
    "    date = session_folder.split('-',1)[-1]\n",
    "    session = Session(date)\n",
    "    \n",
    "    musicians_info_path = os.path.join(session_folder, 'riots-musicians.txt')\n",
    "    musician_info = {}\n",
    "    musician_riots = {}\n",
    "\n",
    "    # Charger les infos des musiciens et des riots\n",
    "    with open(musicians_info_path, 'r') as file:\n",
    "        for line in file:\n",
    "            riot_number, musician, riot_type = line.strip().split()\n",
    "            musician_info[int(riot_number)-1] = (musician, riot_type)\n",
    "            \n",
    "           # Vérifier si le musicien est déjà dans le dictionnaire\n",
    "            if musician not in musician_riots:\n",
    "                # Initialiser un tuple pour 'head' et 'arm/leg' avec None\n",
    "                musician_riots[musician] = (None, None)\n",
    "            \n",
    "            if riot_type == 'head':\n",
    "                # Mettre à jour le numéro de riot pour 'head'\n",
    "                musician_riots[musician] = (int(riot_number)-1, musician_riots[musician][1])\n",
    "            elif riot_type in ['arm', 'leg']:\n",
    "                # Mettre à jour le numéro de riot pour 'arm/leg' si ce n'est pas déjà fait\n",
    "                if musician_riots[musician][1] is None:\n",
    "                    musician_riots[musician] = (musician_riots[musician][0], int(riot_number)-1)\n",
    "    \n",
    "    # Charger les données des expériences\n",
    "    for exp_file in glob.glob(f'{session_folder}/*-data-riot-*.txt'):\n",
    "        exp_info = os.path.basename(exp_file).split('_')\n",
    "        exp_number = int(exp_info[0])\n",
    "        exp_time = re.search(r't_(\\d+_\\d+_\\d+)-data', exp_file).group(1).replace('_', ':')\n",
    "        riot_number = int(exp_info[-1].split('.')[0].split('-')[-1]) - 1\n",
    "        \n",
    "        experience = None\n",
    "        # print(\"exp\",exp_number)\n",
    "        if exp_number in session.experiences:\n",
    "            experience = session.experiences[exp_number]\n",
    "        else:\n",
    "            experience = Experience(exp_time,exp_number)\n",
    "            experience.musician_riots = musician_riots\n",
    "            session.experiences[exp_number] = experience\n",
    "        \n",
    "        # Lecture des données du riot\n",
    "        datasets = []\n",
    "        with open(exp_file, 'r') as file:\n",
    "            for line in file:\n",
    "                data = list(map(float, line.strip().split()))\n",
    "                dataset = Dataset(*data)\n",
    "                datasets.append(dataset)\n",
    "        \n",
    "        # Calculer la durée comme le max de t\n",
    "        duration = max([d.t for d in datasets])\n",
    "        session.experiences[exp_number].trunc = (0,max(duration,session.experiences[exp_number].trunc[1]))\n",
    "        \n",
    "        riot = Riot(datasets, duration, musician_info[riot_number][1])\n",
    "        session.experiences[exp_number].riots[riot_number] = riot\n",
    "        \n",
    "    return session\n"
   ]
  },
  {
   "cell_type": "markdown",
   "metadata": {},
   "source": [
    "### Building Dataframe \n",
    "\n",
    "TODO\n",
    "\n",
    "class Dataf (extend Dataset): \n",
    "  * exp_n: int\n",
    "  * riot_n: int\n",
    "  * musician: string\n",
    "  * riot_type: \"arm\" | \"leg\" | \"head\""
   ]
  },
  {
   "cell_type": "code",
   "execution_count": 4,
   "metadata": {},
   "outputs": [],
   "source": [
    "class Dataf(Dataset):\n",
    "    def __init__(self,dataset,exp_n,riot_n,musician,riot_type):\n",
    "        Dataset.__init__(self,dataset.t,dataset.acc_x,dataset.acc_y,dataset.acc_z,dataset.gyro_x,dataset.gyro_y,dataset.gyro_z,dataset.mag_x,dataset.mag_y,dataset.mag_z,dataset.orientation_x,dataset.orientation_y,dataset.orientation_z,dataset.accfilt_x,dataset.accfilt_y,dataset.accfilt_z,dataset.intensity)\n",
    "        self.exp_n = exp_n\n",
    "        self.riot_n = riot_n\n",
    "        self.musician = musician\n",
    "        self.riot_type = riot_type"
   ]
  },
  {
   "cell_type": "code",
   "execution_count": 9,
   "metadata": {},
   "outputs": [],
   "source": [
    "def session_to_dataf(session):\n",
    "    # Construire les objets Dataf en prenant compte du tronquage\n",
    "    datasetsf = []\n",
    "\n",
    "    # for exp in session.experiences:      \n",
    "    #     experience = session.experiences[exp]\n",
    "    #     for musician in list(experience.musician_riots.keys()):\n",
    "    #         riot_head, riot_limb = experience.musician_riots[musician]\n",
    "    #         datasetsf = datasetsf + [Dataf(data,experience.number,riot_head,musician,experience.riots[riot_head].riot_type) for data in experience.riots[riot_head].dataset if (experience.trunc[0] <= data.t <=experience.trunc[1])]\n",
    "    #         datasetsf = datasetsf + [Dataf(data,experience.number,riot_head,musician,experience.riots[riot_limb].riot_type) for data in experience.riots[riot_limb].dataset if (experience.trunc[0] <= data.t <=experience.trunc[1])]\n",
    "    \n",
    "    # Cette algo tiens compte du fait que les données sont rangé par ordre croissant\n",
    "    for exp in session.experiences:      \n",
    "        experience = session.experiences[exp]\n",
    "        for musician in list(experience.musician_riots.keys()):\n",
    "            riot_head, riot_limb = experience.musician_riots[musician]\n",
    "            \n",
    "            # Pour riot_head\n",
    "            for data in experience.riots[riot_head].dataset:\n",
    "                if data.t > experience.trunc[1]:\n",
    "                    break  # Arrêtez l'itération si data.t dépasse la limite de temps supérieure\n",
    "                if experience.trunc[0] <= data.t:\n",
    "                    datasetsf.append(Dataf(data,experience.number,riot_head,musician,experience.riots[riot_head].riot_type))\n",
    "            \n",
    "            # Pour riot_limb\n",
    "            for data in experience.riots[riot_limb].dataset:\n",
    "                if data.t > experience.trunc[1]:\n",
    "                    break  # Arrêtez l'itération si data.t dépasse la limite de temps supérieure\n",
    "                if experience.trunc[0] <= data.t:\n",
    "                    datasetsf.append(Dataf(data,experience.number,riot_limb,musician,experience.riots[riot_limb].riot_type))\n",
    "    \n",
    "    # Utilisation de l'introspection pour construire la liste des dictionnaires\n",
    "    data_dicts = [vars(dataset) for dataset in datasetsf]\n",
    "\n",
    "    # Création du DataFrame Pandas\n",
    "    return pd.DataFrame(data_dicts)\n",
    "            "
   ]
  },
  {
   "cell_type": "markdown",
   "metadata": {},
   "source": [
    "### Exemple\n",
    "\n",
    "Display waveform of the intensity of Cello over time in experience 10"
   ]
  },
  {
   "cell_type": "code",
   "execution_count": null,
   "metadata": {},
   "outputs": [],
   "source": [
    "data_folder = \"../data/\"\n",
    "session2_folder = data_folder + 'data-2023-09-27'\n",
    "\n",
    "session = load_data(session2_folder)\n",
    "df = session_to_dataf(session)"
   ]
  },
  {
   "cell_type": "code",
   "execution_count": null,
   "metadata": {},
   "outputs": [],
   "source": [
    "filtered_df_Cello = df[(df['musician'] == 'Cello') & (df['riot_type'] == 'arm') & (df['exp_n'] == 10)]\n",
    "\n",
    "plt.figure(figsize=(20, 3))\n",
    "sns.lineplot(data=filtered_df_Cello, x='t', y='intensity', label='Intensity for Cello (Head) - Exp 10')\n",
    "plt.title('Intensity over Time')\n",
    "plt.xlabel('Time')\n",
    "plt.ylabel('Intensity')\n",
    "plt.legend()\n",
    "plt.show()\n",
    "\n",
    "filtered_df_Drum = df[(df['musician'] == 'Drum') & (df['riot_type'] == 'arm') & (df['exp_n'] == 10)]\n",
    "\n",
    "plt.figure(figsize=(20, 3))\n",
    "sns.lineplot(data=filtered_df_Drum, x='t', y='intensity', label='Intensity for Drum (Arm) - Exp 10')\n",
    "plt.title('Intensity over Time')\n",
    "plt.xlabel('Time')\n",
    "plt.ylabel('Intensity')\n",
    "plt.legend()\n",
    "plt.show()\n",
    "\n",
    "filtered_df_Sax = df[(df['musician'] == 'Sax') & (df['riot_type'] == 'arm') & (df['exp_n'] == 10)]\n",
    "\n",
    "plt.figure(figsize=(20, 3))\n",
    "sns.lineplot(data=filtered_df_Sax, x='t', y='intensity', label='Intensity for Sax (Arm) - Exp 10')\n",
    "plt.title('Intensity over Time')\n",
    "plt.xlabel('Time')\n",
    "plt.ylabel('Intensity')\n",
    "plt.legend()\n",
    "plt.show()\n",
    "\n",
    "# filtered_df_Piano = df[(df['musician'] == 'Piano') & (df['riot_type'] == 'arm') & (df['exp_n'] == 20)]\n",
    "\n",
    "# plt.figure(figsize=(20, 3))\n",
    "# sns.lineplot(data=filtered_df_Piano, x='t', y='intensity', label='Intensity for Piano (Arm) - Exp 20')\n",
    "# plt.title('Intensity over Time')\n",
    "# plt.xlabel('Time')\n",
    "# plt.ylabel('Intensity')\n",
    "# plt.legend()\n",
    "# plt.show()"
   ]
  },
  {
   "cell_type": "markdown",
   "metadata": {},
   "source": [
    "### Make it interactive\n",
    "\n",
    "TODO"
   ]
  },
  {
   "cell_type": "code",
   "execution_count": 10,
   "metadata": {},
   "outputs": [
    {
     "data": {
      "application/vnd.jupyter.widget-view+json": {
       "model_id": "a7ffd499ce994d14b026dc7d14c38afa",
       "version_major": 2,
       "version_minor": 0
      },
      "text/plain": [
       "Dropdown(description='Sessions:', options=('Sélectionnez un dossier de session', 'cache', 'data-2023-09-26', '…"
      ]
     },
     "metadata": {},
     "output_type": "display_data"
    },
    {
     "data": {
      "application/vnd.jupyter.widget-view+json": {
       "model_id": "6fd96d5f39594889a21775628a4d64c2",
       "version_major": 2,
       "version_minor": 0
      },
      "text/plain": [
       "Dropdown(description='Saves:', options=('Sélectionnez une sauvegarde de session', 'data-2023-09-26.pickle', 'd…"
      ]
     },
     "metadata": {},
     "output_type": "display_data"
    },
    {
     "data": {
      "application/vnd.jupyter.widget-view+json": {
       "model_id": "5c2d56ed6fb94980b25452af0b7f3b81",
       "version_major": 2,
       "version_minor": 0
      },
      "text/plain": [
       "Dropdown(description='Fichiers son:', options=('Sélectionnez un dossier de session',), value='Sélectionnez un …"
      ]
     },
     "metadata": {},
     "output_type": "display_data"
    },
    {
     "name": "stdout",
     "output_type": "stream",
     "text": [
      "chargement du dataframe ...\n",
      "chargement du dataframe Terminé\n"
     ]
    },
    {
     "data": {
      "application/vnd.jupyter.widget-view+json": {
       "model_id": "ca285cb102a2413b83ae62649b0c6f95",
       "version_major": 2,
       "version_minor": 0
      },
      "text/plain": [
       "VBox(children=(FloatRangeSlider(value=(25.0, 75.0), continuous_update=False, description='Time Range (s):', la…"
      ]
     },
     "metadata": {},
     "output_type": "display_data"
    },
    {
     "name": "stdout",
     "output_type": "stream",
     "text": [
      "10\n"
     ]
    },
    {
     "name": "stdout",
     "output_type": "stream",
     "text": [
      "3\n"
     ]
    },
    {
     "name": "stdout",
     "output_type": "stream",
     "text": [
      "8\n"
     ]
    },
    {
     "name": "stdout",
     "output_type": "stream",
     "text": [
      "15\n"
     ]
    },
    {
     "name": "stdout",
     "output_type": "stream",
     "text": [
      "30\n"
     ]
    },
    {
     "name": "stdout",
     "output_type": "stream",
     "text": [
      "12\n"
     ]
    },
    {
     "name": "stdout",
     "output_type": "stream",
     "text": [
      "19\n"
     ]
    },
    {
     "name": "stdout",
     "output_type": "stream",
     "text": [
      "11\n"
     ]
    },
    {
     "name": "stdout",
     "output_type": "stream",
     "text": [
      "13\n"
     ]
    },
    {
     "name": "stdout",
     "output_type": "stream",
     "text": [
      "1\n"
     ]
    },
    {
     "name": "stdout",
     "output_type": "stream",
     "text": [
      "21\n"
     ]
    },
    {
     "name": "stdout",
     "output_type": "stream",
     "text": [
      "18\n"
     ]
    },
    {
     "name": "stdout",
     "output_type": "stream",
     "text": [
      "22\n"
     ]
    },
    {
     "name": "stdout",
     "output_type": "stream",
     "text": [
      "23\n"
     ]
    },
    {
     "name": "stdout",
     "output_type": "stream",
     "text": [
      "20\n"
     ]
    },
    {
     "name": "stdout",
     "output_type": "stream",
     "text": [
      "25\n"
     ]
    },
    {
     "name": "stdout",
     "output_type": "stream",
     "text": [
      "27\n"
     ]
    },
    {
     "name": "stdout",
     "output_type": "stream",
     "text": [
      "24\n"
     ]
    },
    {
     "name": "stdout",
     "output_type": "stream",
     "text": [
      "7\n"
     ]
    },
    {
     "name": "stdout",
     "output_type": "stream",
     "text": [
      "4\n"
     ]
    },
    {
     "name": "stdout",
     "output_type": "stream",
     "text": [
      "29\n"
     ]
    },
    {
     "name": "stdout",
     "output_type": "stream",
     "text": [
      "5\n"
     ]
    },
    {
     "name": "stdout",
     "output_type": "stream",
     "text": [
      "2\n"
     ]
    },
    {
     "name": "stdout",
     "output_type": "stream",
     "text": [
      "17\n"
     ]
    },
    {
     "name": "stdout",
     "output_type": "stream",
     "text": [
      "16\n"
     ]
    },
    {
     "name": "stdout",
     "output_type": "stream",
     "text": [
      "9\n"
     ]
    },
    {
     "name": "stdout",
     "output_type": "stream",
     "text": [
      "32\n"
     ]
    },
    {
     "name": "stdout",
     "output_type": "stream",
     "text": [
      "26\n"
     ]
    },
    {
     "name": "stdout",
     "output_type": "stream",
     "text": [
      "14\n"
     ]
    },
    {
     "name": "stdout",
     "output_type": "stream",
     "text": [
      "31\n"
     ]
    },
    {
     "name": "stdout",
     "output_type": "stream",
     "text": [
      "28\n"
     ]
    },
    {
     "name": "stdout",
     "output_type": "stream",
     "text": [
      "6\n"
     ]
    },
    {
     "name": "stdout",
     "output_type": "stream",
     "text": [
      "mis à jour du dataframe ...\n"
     ]
    },
    {
     "ename": "",
     "evalue": "",
     "output_type": "error",
     "traceback": [
      "\u001b[1;31mThe Kernel crashed while executing code in the current cell or a previous cell. \n",
      "\u001b[1;31mPlease review the code in the cell(s) to identify a possible cause of the failure. \n",
      "\u001b[1;31mClick <a href='https://aka.ms/vscodeJupyterKernelCrash'>here</a> for more info. \n",
      "\u001b[1;31mView Jupyter <a href='command:jupyter.viewOutput'>log</a> for further details."
     ]
    }
   ],
   "source": [
    "# %matplotlib widget\n",
    "%matplotlib inline\n",
    "\n",
    "# import librosa\n",
    "# import librosa.display\n",
    "# import matplotlib.pyplot as plt\n",
    "# from IPython.display import Audio, display\n",
    "# from IPython.display import clear_output\n",
    "# import ipywidgets as widgets\n",
    "# import pickle\n",
    "\n",
    "data_folder = \"../data/\"\n",
    "cache_folder = \"../data/cache/\"\n",
    "session_folder = \"\"\n",
    "session = None\n",
    "df = None\n",
    "sound_file_path = \"\"\n",
    "session_folders = []\n",
    "\n",
    "# Sauvegarde\n",
    "\n",
    "def save_session(session,str=''):\n",
    "    with open('../data/cache/data-' + session.date + str + '.pickle', 'wb') as fichier:\n",
    "        pickle.dump(session, fichier)\n",
    "def load_session(session_path):\n",
    "    with open(session_path, 'rb') as fichier:\n",
    "        return pickle.load(fichier)\n",
    "    return None\n",
    "\n",
    "# Widgets\n",
    "# Liste tous les dossiers dans data_folder\n",
    "session_folders = [f.name for f in os.scandir(data_folder) if f.is_dir()]\n",
    "session_select = widgets.Dropdown(\n",
    "    options=['Sélectionnez un dossier de session'] + session_folders,\n",
    "    description='Sessions:',\n",
    "    disabled=False\n",
    ")\n",
    "saved_folders = [f for f in os.listdir(cache_folder) if f.endswith('.pickle')]\n",
    "saved_select = widgets.Dropdown(\n",
    "    options=['Sélectionnez une sauvegarde de session'] + saved_folders,\n",
    "    description='Saves:',\n",
    "    disabled=False\n",
    ")\n",
    "sound_dropdown = widgets.Dropdown(\n",
    "    options=['Sélectionnez un dossier de session'],\n",
    "    description='Fichiers son:',\n",
    "    disabled=False,)\n",
    "\n",
    "def update_sound_dropdown(session_folder):\n",
    "    sound_files = [f for f in os.listdir(os.path.join(session_folder, 'sound')) if f.endswith('.aif')]\n",
    "    if sound_files:\n",
    "        sound_dropdown.options = ['Sélectionnez un son'] + sound_files\n",
    "    else:\n",
    "        sound_dropdown.options = ['Aucun fichier trouvé']\n",
    "\n",
    "def on_session_change(change):\n",
    "    global df\n",
    "    global session\n",
    "    global session_folder\n",
    "    session_folder = os.path.join(data_folder, change['new'])\n",
    "    # Mise à jour du menu déroulant pour les fichiers sonores\n",
    "    update_sound_dropdown(session_folder)\n",
    "    print(\"chargement du dataframe ...\")\n",
    "    session = load_data(session_folder)\n",
    "    df = session_to_dataf(session)\n",
    "    # save_session(session)\n",
    "    print(\"chargement du dataframe Terminé\")\n",
    "    \n",
    "def on_saved_change(change):\n",
    "    global df\n",
    "    global session\n",
    "    global session_folder\n",
    "    \n",
    "    print(\"chargement du dataframe ...\")\n",
    "    session = load_session(os.path.join(cache_folder, change['new']))\n",
    "    df = session_to_dataf(session)\n",
    "    # save_session(session)\n",
    "    print(\"chargement du dataframe Terminé\")\n",
    "    session_folder = os.path.join(data_folder,'data-'+session.date)\n",
    "    # Mise à jour du menu déroulant pour les fichiers sonores\n",
    "    update_sound_dropdown(session_folder)\n",
    "    \n",
    "ui_active = False\n",
    "\n",
    "def on_sound_change(change):\n",
    "    global sound_file_path, ui_box, ui_active\n",
    "    if change['new'] != 'Sélectionnez un son':\n",
    "        if ui_active == False:\n",
    "            ui_active = True\n",
    "            display(ui_box)\n",
    "            \n",
    "        sound_file_path = change['new']\n",
    "        setup_waveform_trunc(os.path.join(data_folder, session_folder,\"sound\",sound_file_path))\n",
    "\n",
    "# Widgets callback\n",
    "session_select.observe(on_session_change, names='value')\n",
    "saved_select.observe(on_saved_change, names='value')\n",
    "sound_dropdown.observe(on_sound_change, names='value')\n",
    "\n",
    "# Widgets display\n",
    "display(session_select,saved_select)\n",
    "display(sound_dropdown)\n",
    "\n",
    "# Pour tronquer la waveform\n",
    "\n",
    "# Lier la lecture à l'appui sur le bouton\n",
    "def on_play_button_clicked(b):\n",
    "    play_audio(start_end_slider.value[0], start_end_slider.value[1], audio, sr)\n",
    "\n",
    "\n",
    "# Tronquage des datas\n",
    "\n",
    "def on_trunc_button_clicked(b):\n",
    "    global df, session\n",
    "    # Tronquage directement à l'update de la selection, tout est donc Tronqué automatiquement\n",
    "        #Màj de l'objet session directement (attention seconde -> milliseconde)\n",
    "        # session.experiences[int(sound_file_path.split(\"_\",1)[0])].trunc = (start_end_slider.value[0] * 1000, start_end_slider.value[1] * 1000)\n",
    "        \n",
    "    # Màj du dataframe\n",
    "    print(\"mis à jour du dataframe ...\")\n",
    "    df = session_to_dataf(session)\n",
    "    save_session(session)\n",
    "    print(\"mis à jour du dataframe Terminé\")\n",
    "\n",
    "\n",
    "out = widgets.Output()\n",
    "\n",
    "# Définir la fonction de lecture audio\n",
    "def play_audio(start_time, end_time, audio, sr):\n",
    "    display(Audio(data=audio[int(start_time * sr):int(end_time * sr)], rate=sr))\n",
    "\n",
    "# Créer la fonction de mise à jour de la sélection\n",
    "def update_selection(change):\n",
    "    global session\n",
    "    #Màj de l'objet session (attention seconde -> milliseconde)\n",
    "    session.experiences[int(sound_file_path.split(\"_\",1)[0])].trunc = (start_end_slider.value[0] * 1000, start_end_slider.value[1] * 1000)\n",
    "    with out:\n",
    "        clear_output(wait=True)\n",
    "        plt.figure(figsize=(10, 4))\n",
    "        librosa.display.waveshow(audio, sr=sr, color='blue')\n",
    "        plt.axvspan(start_end_slider.value[0], start_end_slider.value[1], color='red', alpha=0.5)\n",
    "        plt.show()\n",
    "        \n",
    "# Créer les widgets pour contrôler la lecture et le tronquage\n",
    "start_end_slider = widgets.FloatRangeSlider(\n",
    "    min=0, \n",
    "    step=0.01, \n",
    "    description='Time Range (s):',\n",
    "    continuous_update=False,\n",
    ")\n",
    "start_end_slider.layout.width = '50%'\n",
    "play_button = widgets.Button(description=\"Play\")\n",
    "trunc_button = widgets.Button(description=\"Trunc\")\n",
    "trunc_button.on_click(on_trunc_button_clicked)\n",
    "\n",
    "play_button.on_click(on_play_button_clicked)\n",
    "\n",
    "ui_box = widgets.VBox([start_end_slider, play_button, trunc_button, out], layout={'width': '100%'})\n",
    "\n",
    "# Créer la fonction pour configurer et afficher le waveform avec les contrôles\n",
    "def setup_waveform_trunc(audio_path):\n",
    "    global audio, sr, session\n",
    "    \n",
    "    # Charger le fichier audio\n",
    "    audio, sr = librosa.load(audio_path)\n",
    "    \n",
    "    # Mise à jour des widgets pour contrôler la lecture et le tronquage\n",
    "    start_end_slider.max = len(audio) / sr\n",
    "    start_end_slider.value=[session.experiences[int(sound_file_path.split(\"_\",1)[0])].trunc[0]/1000, session.experiences[int(sound_file_path.split(\"_\",1)[0])].trunc[1]/1000]\n",
    "    # Lier la mise à jour de la sélection aux changements de valeur des curseurs\n",
    "    start_end_slider.observe(update_selection, names='value')\n",
    "    \n",
    "    # Initialiser l'affichage\n",
    "    with out:\n",
    "        clear_output(wait=True)\n",
    "        plt.figure(figsize=(10, 4))\n",
    "        librosa.display.waveshow(audio, sr=sr, color='blue')\n",
    "        plt.axvspan(start_end_slider.value[0], start_end_slider.value[1], color='red', alpha=0.5)\n",
    "        plt.show()\n",
    "    \n",
    "# %matplotlib inline"
   ]
  },
  {
   "cell_type": "markdown",
   "metadata": {},
   "source": [
    "## Analysis\n",
    "\n",
    "tempo dans le mouvement, wavelet pour les motifs de mouvement , autocorrélation , Fourier, analyse de spectre  \n",
    "\n",
    "### Distribution of movement\n",
    "\n",
    "D'abord analyser la distribution du mouvement (pour une expérience) par instrument peut nous donner un bon indicateur d'à quel point certain mouvement de même amplitude sont important durant la performance \n",
    "Plus tard il faudrait distinguer les mouvements spontannées des mouvements de couplage avec le tempo\n",
    "\n",
    "TODO"
   ]
  },
  {
   "cell_type": "code",
   "execution_count": null,
   "metadata": {},
   "outputs": [],
   "source": [
    "filtered_df_mvDistrib = df[(df['exp_n'] == 10)]\n",
    "\n",
    "g = sns.catplot(\n",
    "    # data=filtered_df_mvDistrib, x=\"musician\", y=\"intensity\", hue=\"riot_type\",inner=\"quart\" ,kind=\"violin\",height=5,width=0.7,aspect=3,\n",
    "    data=filtered_df_mvDistrib, x=\"musician\", y=\"intensity\", hue=\"riot_type\",inner=\"quart\" ,kind=\"violin\",aspect=3,\n",
    ")\n",
    "\n",
    "# std_dev = filtered_df_mvDistrib.groupby(['musician', 'riot_type'])['intensity'].std().reset_index()\n",
    "# h = sns.pointplot(data=std_dev, x='musician', y='intensity', hue='riot_type', dodge=True,\n",
    "#               linestyle='none', markers='_', markersize=10,errorbar=\"ci\", ax=g.ax)\n",
    "\n",
    "# handles, labels = g.ax.get_legend_handles_labels()\n",
    "# g.ax.legend(handles=handles, labels=labels)\n",
    "\n",
    "g.figure.suptitle('Distribution of Intensity for each riot(Musician/Limb) - Exp 10' )\n",
    "\n",
    "plt.show()\n"
   ]
  },
  {
   "cell_type": "code",
   "execution_count": null,
   "metadata": {},
   "outputs": [],
   "source": [
    "%matplotlib widget\n",
    "filtered_df_mvDistrib = df[(df['riot_type'] == \"head\")]\n",
    "\n",
    "g = sns.catplot(\n",
    "    data=filtered_df_mvDistrib, x=\"musician\", y=\"intensity\", hue=\"exp_n\",inner=\"quart\" ,kind=\"violin\",height=5,width=0.7,aspect=3,\n",
    ")\n",
    "\n",
    "g.figure.suptitle('Distribution of Intensity for each riot(Musician/Limb) - Exp 10' )\n",
    "\n",
    "plt.show()"
   ]
  },
  {
   "cell_type": "code",
   "execution_count": null,
   "metadata": {},
   "outputs": [],
   "source": []
  },
  {
   "cell_type": "markdown",
   "metadata": {},
   "source": [
    "### Tempis\n"
   ]
  },
  {
   "cell_type": "code",
   "execution_count": null,
   "metadata": {},
   "outputs": [],
   "source": [
    "# # plt.figure(figsize=(12,8))\n",
    "# # Tgram = librosa.feature.tempogram(filtered_df_Cello['intensity'].to_numpy(), 100)\n",
    "# # librosa.display.specshow(Tgram, x_axis='time', y_axis='tempo')\n",
    "# # plt.colorbar()\n",
    "# # plt.title('Tempogram')\n",
    "# # plt.show()\n",
    "# import numpy as np\n",
    "\n",
    "\n",
    "# signal = filtered_df_Cello['intensity'].to_numpy()\n",
    "# # Normalisation du signal\n",
    "# signal = signal - np.mean(signal)\n",
    "# signal = signal / np.max(np.abs(signal))\n",
    "\n",
    "# # Définir le taux d'échantillonnage\n",
    "# sr = 100  # Le taux d'échantillonnage est de 100 Hz\n",
    "# # tempo, _ = librosa.beat.beat_track(y=signal, sr=sr, tightness=100, trim=False)\n",
    "# # Utiliser librosa.beat.tempo pour estimer le tempo global du signal\n",
    "# # On utilise aggregate=None pour obtenir la distribution de tous les tempos estimés plutôt qu'un seul tempo global\n",
    "# tempo_distribution = librosa.beat.tempo(y=signal, sr=sr, aggregate=None)\n",
    "\n",
    "# # Visualiser la distribution du tempo\n",
    "# plt.figure(figsize=(10, 6))\n",
    "# plt.hist(tempo_distribution, bins=30, color='blue', alpha=0.7)\n",
    "# plt.title('Distribution du Tempo')\n",
    "# plt.xlabel('Tempo (battements par minute)')\n",
    "# plt.ylabel('Fréquence')\n",
    "# plt.show()"
   ]
  },
  {
   "cell_type": "markdown",
   "metadata": {},
   "source": [
    "## TODO\n",
    "\n",
    "* mettre au propre l'association riots musicien\n",
    "* Enregistrer la structure de donnée\n",
    "* Pouvoir Analyser en sélectionnant intéractivement (pour l'intensité d'abord)\n",
    "* Tronquer les données desexpériences"
   ]
  }
 ],
 "metadata": {
  "kernelspec": {
   "display_name": "Python 3",
   "language": "python",
   "name": "python3"
  },
  "language_info": {
   "codemirror_mode": {
    "name": "ipython",
    "version": 3
   },
   "file_extension": ".py",
   "mimetype": "text/x-python",
   "name": "python",
   "nbconvert_exporter": "python",
   "pygments_lexer": "ipython3",
   "version": "3.10.12"
  }
 },
 "nbformat": 4,
 "nbformat_minor": 2
}
